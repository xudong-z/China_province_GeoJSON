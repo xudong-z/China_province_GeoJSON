{
 "cells": [
  {
   "cell_type": "code",
   "execution_count": 5,
   "metadata": {},
   "outputs": [],
   "source": [
    "import numpy as np\n",
    "import pandas as pd\n",
    "import json\n",
    "import copy\n",
    "\n",
    "import bqplot as bqp\n",
    "import seaborn as sns\n",
    "from matplotlib import colors as colors\n",
    "import matplotlib.pyplot as plt\n",
    "# import bqviz as bqv\n",
    "from ipyleaflet import *\n",
    "from ipywidgets import *\n",
    "from IPython.display import display\n",
    "\n",
    "import math"
   ]
  },
  {
   "cell_type": "code",
   "execution_count": 6,
   "metadata": {},
   "outputs": [
    {
     "data": {
      "text/plain": [
       "{'childNum': 18,\n",
       " 'cp': [84.9023, 42.148],\n",
       " 'id': 65,\n",
       " 'name': 'Xinjiang',\n",
       " 'size': '550'}"
      ]
     },
     "execution_count": 6,
     "metadata": {},
     "output_type": "execute_result"
    }
   ],
   "source": [
    "with open('china2.json', encoding='utf-8') as f:\n",
    "    data = json.load(f)\n",
    "    \n",
    "port_coordinates = pd.read_csv('port_lat_long.csv')\n",
    "\n",
    "df_meta = pd.read_excel('Mysteel_tickers.xlsx').set_index('Ticker')\n",
    "\n",
    "df_port_coord = pd.read_csv('port_lat_long.csv')\n",
    "# df_port_coord.head()\n",
    "\n",
    "data['features'][0]['properties']"
   ]
  },
  {
   "cell_type": "code",
   "execution_count": 30,
   "metadata": {},
   "outputs": [
    {
     "data": {
      "application/vnd.jupyter.widget-view+json": {
       "model_id": "a080307511ac4143ad2506c7a41ba558",
       "version_major": 2,
       "version_minor": 0
      },
      "text/plain": [
       "Map(basemap={'url': 'https://{s}.tile.openstreetmap.org/{z}/{x}/{y}.png', 'max_zoom': 19, 'attribution': 'Map …"
      ]
     },
     "metadata": {},
     "output_type": "display_data"
    }
   ],
   "source": [
    "m = Map(center=[34.14, 120.23], zoom=5, name='Base map', \n",
    "        basemaps=basemaps.OpenStreetMap.DE,\n",
    "       layout=Layout(width='600px', height='600px'))\n",
    "\n",
    "\n",
    "polygon_default_layout = {\n",
    "    'color': 'grey',\n",
    "    'weight':1,\n",
    "    'fillColor':'grey',\n",
    "    'fillOpacity':0.2,\n",
    "    'dashArray':'2'\n",
    "}\n",
    "\n",
    "polygon_highlighted_layout = {\n",
    "    'color': 'grey',\n",
    "    'weight':1,\n",
    "    'fillColor':'green',\n",
    "    'fillOpacity':0.2\n",
    "}\n",
    "\n",
    "\n",
    "label = Label(value = 'test', layout = Layout(width='20%'))\n",
    "\n",
    "for feature in data['features']:\n",
    "    feature['properties']['style'] = polygon_default_layout\n",
    "    \n",
    "geojson_layer = GeoJSON(data = data, name = 'China Provinces', hover_style={'fillColor':'green'})\n",
    "\n",
    "\n",
    "selected_set = set()\n",
    "selected_layer = None\n",
    "\n",
    "def convert_selected_set_to_geojson(selected_set):\n",
    "    geojson ={'type': 'FeatureCollection', 'features': []}\n",
    "    geojson['features'] = [feature for feature in data['features'] if feature['properties']['name'] in selected_set]\n",
    "    for feature in data['features']:\n",
    "        feature['properties']['style'] = polygon_highlighted_layout\n",
    "    return geojson\n",
    "\n",
    "def selected_on_click_handler(event=None, id=None, properties=None, **args):\n",
    "    global selected_layer\n",
    "    if properties is None:\n",
    "        return\n",
    "    cid = properties['name']\n",
    "    selected_set.remove(cid)\n",
    "    if selected_layer is not None:\n",
    "        m.remove_layer(selected_layer)\n",
    "    selected_layer = GeoJSON(data = convert_selected_set_to_geojson(selected_set),\n",
    "                            name = 'Selected provinces',\n",
    "                            hover_style = {'fillcolor': 'green'})\n",
    "    selected_layer.on_click(selected_on_click_handler)\n",
    "    m.add_layer(selected_layer)\n",
    "        \n",
    "def geojson_onclick_handler(event=None, id=None, properties=None, **args):\n",
    "    global selected_layer\n",
    "    if properties is None:\n",
    "        return\n",
    "    cid = properties['name']\n",
    "    selected_set.add(cid)\n",
    "    if selected_layer is not None:\n",
    "        m.remove_layer(selected_layer)\n",
    "    selected_layer = GeoJSON(data = convert_selected_set_to_geojson(selected_set),\n",
    "                    name = 'Selected provinces',\n",
    "                    hover_style = {'fillcolor':'green'})\n",
    "    selected_layer.on_click(selected_on_click_handler)\n",
    "    m.add_layer(selected_layer)\n",
    "    \n",
    "geojson_layer.on_click(geojson_onclick_handler)\n",
    "m.add_layer(geojson_layer)\n",
    "\n",
    "m\n"
   ]
  },
  {
   "cell_type": "code",
   "execution_count": 32,
   "metadata": {},
   "outputs": [
    {
     "data": {
      "text/plain": [
       "{'style': {'color': '#e3eef9',\n",
       "  'fillColor': '#e3eef9',\n",
       "  'fillOpacity': 0.5,\n",
       "  'weight': 1}}"
      ]
     },
     "execution_count": 32,
     "metadata": {},
     "output_type": "execute_result"
    }
   ],
   "source": [
    "# data['features'][0]['properties']\n",
    "ports_data['features'][0]['properties']"
   ]
  },
  {
   "cell_type": "code",
   "execution_count": 26,
   "metadata": {
    "scrolled": false
   },
   "outputs": [
    {
     "data": {
      "application/vnd.jupyter.widget-view+json": {
       "model_id": "664776938dde42e2b3b887d293cd7e75",
       "version_major": 2,
       "version_minor": 0
      },
      "text/plain": [
       "Map(basemap={'url': 'https://{s}.tile.openstreetmap.org/{z}/{x}/{y}.png', 'max_zoom': 19, 'attribution': 'Map …"
      ]
     },
     "metadata": {},
     "output_type": "display_data"
    },
    {
     "ename": "KeyError",
     "evalue": "'name'",
     "output_type": "error",
     "traceback": [
      "\u001b[0;31m---------------------------------------------------------------------------\u001b[0m",
      "\u001b[0;31mKeyError\u001b[0m                                  Traceback (most recent call last)",
      "\u001b[0;32m<ipython-input-26-e3f3c134a61e>\u001b[0m in \u001b[0;36mgeojson_port_onclick_handler\u001b[0;34m(event, id, properties, **args)\u001b[0m\n\u001b[1;32m     89\u001b[0m     \u001b[0;32mif\u001b[0m \u001b[0mproperties\u001b[0m \u001b[0;32mis\u001b[0m \u001b[0;32mNone\u001b[0m\u001b[0;34m:\u001b[0m\u001b[0;34m\u001b[0m\u001b[0m\n\u001b[1;32m     90\u001b[0m         \u001b[0;32mreturn\u001b[0m\u001b[0;34m\u001b[0m\u001b[0m\n\u001b[0;32m---> 91\u001b[0;31m     \u001b[0mcid\u001b[0m \u001b[0;34m=\u001b[0m \u001b[0mproperties\u001b[0m\u001b[0;34m[\u001b[0m\u001b[0;34m'name'\u001b[0m\u001b[0;34m]\u001b[0m\u001b[0;34m\u001b[0m\u001b[0m\n\u001b[0m\u001b[1;32m     92\u001b[0m     \u001b[0mselected_ports\u001b[0m\u001b[0;34m.\u001b[0m\u001b[0madd\u001b[0m\u001b[0;34m(\u001b[0m\u001b[0mcid\u001b[0m\u001b[0;34m)\u001b[0m\u001b[0;34m\u001b[0m\u001b[0m\n\u001b[1;32m     93\u001b[0m     \u001b[0;32mif\u001b[0m \u001b[0mselected_ports_layer\u001b[0m \u001b[0;32mis\u001b[0m \u001b[0;32mnot\u001b[0m \u001b[0;32mNone\u001b[0m\u001b[0;34m:\u001b[0m\u001b[0;34m\u001b[0m\u001b[0m\n",
      "\u001b[0;31mKeyError\u001b[0m: 'name'"
     ]
    },
    {
     "ename": "KeyError",
     "evalue": "'name'",
     "output_type": "error",
     "traceback": [
      "\u001b[0;31m---------------------------------------------------------------------------\u001b[0m",
      "\u001b[0;31mKeyError\u001b[0m                                  Traceback (most recent call last)",
      "\u001b[0;32m<ipython-input-26-e3f3c134a61e>\u001b[0m in \u001b[0;36mgeojson_port_onclick_handler\u001b[0;34m(event, id, properties, **args)\u001b[0m\n\u001b[1;32m     89\u001b[0m     \u001b[0;32mif\u001b[0m \u001b[0mproperties\u001b[0m \u001b[0;32mis\u001b[0m \u001b[0;32mNone\u001b[0m\u001b[0;34m:\u001b[0m\u001b[0;34m\u001b[0m\u001b[0m\n\u001b[1;32m     90\u001b[0m         \u001b[0;32mreturn\u001b[0m\u001b[0;34m\u001b[0m\u001b[0m\n\u001b[0;32m---> 91\u001b[0;31m     \u001b[0mcid\u001b[0m \u001b[0;34m=\u001b[0m \u001b[0mproperties\u001b[0m\u001b[0;34m[\u001b[0m\u001b[0;34m'name'\u001b[0m\u001b[0;34m]\u001b[0m\u001b[0;34m\u001b[0m\u001b[0m\n\u001b[0m\u001b[1;32m     92\u001b[0m     \u001b[0mselected_ports\u001b[0m\u001b[0;34m.\u001b[0m\u001b[0madd\u001b[0m\u001b[0;34m(\u001b[0m\u001b[0mcid\u001b[0m\u001b[0;34m)\u001b[0m\u001b[0;34m\u001b[0m\u001b[0m\n\u001b[1;32m     93\u001b[0m     \u001b[0;32mif\u001b[0m \u001b[0mselected_ports_layer\u001b[0m \u001b[0;32mis\u001b[0m \u001b[0;32mnot\u001b[0m \u001b[0;32mNone\u001b[0m\u001b[0;34m:\u001b[0m\u001b[0;34m\u001b[0m\u001b[0m\n",
      "\u001b[0;31mKeyError\u001b[0m: 'name'"
     ]
    },
    {
     "ename": "KeyError",
     "evalue": "'name'",
     "output_type": "error",
     "traceback": [
      "\u001b[0;31m---------------------------------------------------------------------------\u001b[0m",
      "\u001b[0;31mKeyError\u001b[0m                                  Traceback (most recent call last)",
      "\u001b[0;32m<ipython-input-26-e3f3c134a61e>\u001b[0m in \u001b[0;36mgeojson_port_onclick_handler\u001b[0;34m(event, id, properties, **args)\u001b[0m\n\u001b[1;32m     89\u001b[0m     \u001b[0;32mif\u001b[0m \u001b[0mproperties\u001b[0m \u001b[0;32mis\u001b[0m \u001b[0;32mNone\u001b[0m\u001b[0;34m:\u001b[0m\u001b[0;34m\u001b[0m\u001b[0m\n\u001b[1;32m     90\u001b[0m         \u001b[0;32mreturn\u001b[0m\u001b[0;34m\u001b[0m\u001b[0m\n\u001b[0;32m---> 91\u001b[0;31m     \u001b[0mcid\u001b[0m \u001b[0;34m=\u001b[0m \u001b[0mproperties\u001b[0m\u001b[0;34m[\u001b[0m\u001b[0;34m'name'\u001b[0m\u001b[0;34m]\u001b[0m\u001b[0;34m\u001b[0m\u001b[0m\n\u001b[0m\u001b[1;32m     92\u001b[0m     \u001b[0mselected_ports\u001b[0m\u001b[0;34m.\u001b[0m\u001b[0madd\u001b[0m\u001b[0;34m(\u001b[0m\u001b[0mcid\u001b[0m\u001b[0;34m)\u001b[0m\u001b[0;34m\u001b[0m\u001b[0m\n\u001b[1;32m     93\u001b[0m     \u001b[0;32mif\u001b[0m \u001b[0mselected_ports_layer\u001b[0m \u001b[0;32mis\u001b[0m \u001b[0;32mnot\u001b[0m \u001b[0;32mNone\u001b[0m\u001b[0;34m:\u001b[0m\u001b[0;34m\u001b[0m\u001b[0m\n",
      "\u001b[0;31mKeyError\u001b[0m: 'name'"
     ]
    }
   ],
   "source": [
    "### port ###############################################################\n",
    "\n",
    "\n",
    "def get_port_circle_coordinates(port, radius=1):\n",
    "    center = df_port_coord.lat_long[df_port_coord.Port_Name == port].reset_index().iloc[0,1].split(',')\n",
    "    port_circle = []\n",
    "    ii = 60\n",
    "    for i in range(ii):\n",
    "        lat = float(center[0]) + math.sin(math.pi*2/ii*i)*radius\n",
    "        long = float(center[1]) + math.cos(math.pi*2/ii*i)*radius\n",
    "        port_circle.append([long,lat])\n",
    "        \n",
    "    return port_circle\n",
    "\n",
    "def get_port_color_by_rank(rank):\n",
    "    colormap = plt.get_cmap('Blues')\n",
    "    i = int(float(colormap.N) * rank / 10) if rank <= 10 else 50\n",
    "    rgb = colormap(i)[:3] # will return rgba, we take only first 3 so we get rgb\n",
    "    return  colors.rgb2hex(rgb)\n",
    "\n",
    "def make_port_circle_data(ports):\n",
    "    ports_data = {'type': 'FeatureCollection', 'features': []}\n",
    "    for rank, port in enumerate(ports,1):\n",
    "        color = get_port_color_by_rank(rank)\n",
    "        radius = 1- rank/20 if rank <= 10 else 0.3\n",
    "        coordinates = get_port_circle_coordinates(port, radius = radius)\n",
    "\n",
    "        ports_data['features'].append({\n",
    "                                    'name': port,\n",
    "                                    'popup_location':coordinates[0],\n",
    "                                    'last_date': '2019-08-09',\n",
    "                                    'last_inventory': '1000mt',\n",
    "                                    'type': 'Feature',\n",
    "                                    'geometry': {'coordinates': [coordinates], \n",
    "                                                 'type': 'Polygon'},\n",
    "                                    'properties': {'style': {'color': color, \n",
    "                                                             'fillColor': color, \n",
    "                                                             'fillOpacity': 0.5, \n",
    "                                                             'weight': 1}},\n",
    "                                })\n",
    "    return ports_data\n",
    "\n",
    "ports_data = make_port_circle_data(df_port_coord.Port_Name.tolist())\n",
    "port_circle = GeoJSON(data=ports_data, hover_style={'fillColor': 'yellow'}, name = 'Ports')\n",
    "\n",
    "# def port_hover_popup_handler(event=None, id=None, properties=None, **arg):\n",
    "#     message = HTML()\n",
    "# #     message.value = '''\n",
    "# #                     <h5>{}</h5> <br> \n",
    "# #                     Last date: {} <br>\n",
    "# #                     Last inventory: {}\n",
    "# #                     '''.format(id, last_date, last_inventory)\n",
    "\n",
    "#     message.value = 'name'\n",
    "#     popup = Popup(\n",
    "#     location= [116,34][::-1],\n",
    "#     child=message,  \n",
    "#     close_button=True,\n",
    "#     auto_close=False\n",
    "#     )\n",
    "#     m.add_layer(popup)\n",
    "\n",
    "selected_ports = set()\n",
    "selected_ports_layer = None\n",
    "\n",
    "def convert_selected_port_to_geojson(selected_ports):\n",
    "    geojson ={'type': 'FeatureCollection', 'features': []}\n",
    "    geojson['features'] = [feature for feature in ports_data['features'] if feature['properties']['name'] in selected_ports]\n",
    "    for feature in ports_data['features']:\n",
    "        feature['properties']['style'] = polygon_highlighted_layout\n",
    "    return geojson\n",
    "\n",
    "def selected_port_on_click_handler(event=None, id=None, properties=None, **args):\n",
    "    global selected_ports_layer\n",
    "    if properties is None:\n",
    "        return\n",
    "    cid = properties['name']\n",
    "    selected_ports.remove(cid)\n",
    "    if selected_ports_layer is not None:\n",
    "        m.remove_layer(selected_ports_layer)\n",
    "    selected_ports_layer = GeoJSON(data = convert_selected_port_to_geojson(selected_ports),\n",
    "                            name = 'Selected ports',\n",
    "                            hover_style = {'fillcolor': 'green'})\n",
    "    selected_ports_layer.on_click(selected_port_on_click_handler)\n",
    "    m.add_layer(selected_ports_layer)\n",
    "        \n",
    "def geojson_port_onclick_handler(event=None, id=None, properties=None, **args):\n",
    "    global selected_ports_layer\n",
    "    if properties is None:\n",
    "        return\n",
    "    cid = properties['name']\n",
    "    selected_ports.add(cid)\n",
    "    if selected_ports_layer is not None:\n",
    "        m.remove_layer(selected_ports_layer)\n",
    "    selected_ports_layer = GeoJSON(data = convert_selected_port_to_geojson(selected_ports),\n",
    "                    name = 'Selected ports',\n",
    "                    hover_style = {'fillcolor':'green'})\n",
    "    selected_ports_layer.on_click(selected_port_on_click_handler)\n",
    "    m.add_layer(selected_ports_layer)\n",
    "    \n",
    "# geojson_layer.on_click(geojson_onclick_handler)\n",
    "# m.add_layer(geojson_layer)\n",
    "\n",
    "\n",
    "port_circle.on_click(geojson_port_onclick_handler)\n",
    "m.add_layer(port_circle)\n",
    "m"
   ]
  },
  {
   "cell_type": "code",
   "execution_count": null,
   "metadata": {},
   "outputs": [],
   "source": []
  },
  {
   "cell_type": "code",
   "execution_count": null,
   "metadata": {},
   "outputs": [],
   "source": []
  },
  {
   "cell_type": "code",
   "execution_count": null,
   "metadata": {},
   "outputs": [],
   "source": []
  },
  {
   "cell_type": "code",
   "execution_count": null,
   "metadata": {},
   "outputs": [],
   "source": []
  },
  {
   "cell_type": "code",
   "execution_count": null,
   "metadata": {},
   "outputs": [],
   "source": [
    "\n",
    "\n",
    "x = [i for i in range(10)]\n",
    "y = [math.sin(math.pi*2/10*i) for i in x]\n",
    "\n",
    "plt.plot(x, y)\n",
    "plt.ylabel('some numbers')\n",
    "plt.show()"
   ]
  },
  {
   "cell_type": "code",
   "execution_count": null,
   "metadata": {},
   "outputs": [],
   "source": [
    "colormap = plt.get_cmap('Blues')\n",
    "colormap.N"
   ]
  },
  {
   "cell_type": "code",
   "execution_count": null,
   "metadata": {},
   "outputs": [],
   "source": []
  }
 ],
 "metadata": {
  "kernelspec": {
   "display_name": "Python 3",
   "language": "python",
   "name": "python3"
  },
  "language_info": {
   "codemirror_mode": {
    "name": "ipython",
    "version": 3
   },
   "file_extension": ".py",
   "mimetype": "text/x-python",
   "name": "python",
   "nbconvert_exporter": "python",
   "pygments_lexer": "ipython3",
   "version": "3.5.4"
  }
 },
 "nbformat": 4,
 "nbformat_minor": 2
}
