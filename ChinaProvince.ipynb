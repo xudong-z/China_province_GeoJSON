{
 "cells": [
  {
   "cell_type": "code",
   "execution_count": 2,
   "metadata": {},
   "outputs": [],
   "source": [
    "import numpy as np\n",
    "import pandas as pd\n",
    "import json\n",
    "import copy\n",
    "\n",
    "import bqplot as bqp\n",
    "import seaborn as sns\n",
    "# import bqviz as bqv\n",
    "from ipyleaflet import *\n",
    "from ipywidgets import *\n",
    "from IPython.display import display"
   ]
  },
  {
   "cell_type": "code",
   "execution_count": 5,
   "metadata": {},
   "outputs": [
    {
     "data": {
      "text/plain": [
       "{'childNum': 18,\n",
       " 'cp': [84.9023, 42.148],\n",
       " 'id': 65,\n",
       " 'name': 'Xinjiang',\n",
       " 'size': '550'}"
      ]
     },
     "execution_count": 5,
     "metadata": {},
     "output_type": "execute_result"
    }
   ],
   "source": [
    "with open('china2.json', encoding='utf-8') as f:\n",
    "    data = json.load(f)\n",
    "    \n",
    "port_coordinates = pd.read_csv('port_lat_long.csv')\n",
    "\n",
    "df_meta = pd.read_excel('Mysteel_tickers.xlsx').set_index('Ticker')\n",
    "\n",
    "data['features'][0]['properties']"
   ]
  },
  {
   "cell_type": "code",
   "execution_count": 18,
   "metadata": {
    "scrolled": false
   },
   "outputs": [
    {
     "data": {
      "application/vnd.jupyter.widget-view+json": {
       "model_id": "a38bf84d2471493a8c3e6dd7a0cc6712",
       "version_major": 2,
       "version_minor": 0
      },
      "text/plain": [
       "Map(basemap={'attribution': 'Map data (c) <a href=\"https://openstreetmap.org\">OpenStreetMap</a> contributors',…"
      ]
     },
     "metadata": {},
     "output_type": "display_data"
    }
   ],
   "source": [
    "m = Map(center=[34.14, 120.23], zoom=4, name='Base map', \n",
    "        basemaps=basemaps.OpenStreetMap.DE,\n",
    "       layout=Layout(width='300px', height='400px'))\n",
    "\n",
    "\n",
    "polygon_default_layout = {\n",
    "    'color': 'grey',\n",
    "    'weight':1,\n",
    "    'fillColor':'grey',\n",
    "    'fillOpacity':0.2\n",
    "}\n",
    "\n",
    "polygon_highlighted_layout = {\n",
    "    'color': 'grey',\n",
    "    'weight':1,\n",
    "    'fillColor':'green',\n",
    "    'fillOpacity':0.2\n",
    "}\n",
    "\n",
    "\n",
    "label = Label(value = 'test', layout = Layout(width='20%'))\n",
    "\n",
    "for feature in data['features']:\n",
    "    feature['properties']['style'] = polygon_default_layout\n",
    "    \n",
    "geojson_layer = GeoJSON(data = data, name = 'China Provinces', hover_style={'fillColor':'green'})\n",
    "\n",
    "\n",
    "selected_set = set()\n",
    "selected_layer = None\n",
    "\n",
    "def convert_selected_set_to_geojson(selected_set):\n",
    "    geojson ={'type': 'FeatureCollection', 'features': []}\n",
    "    geojson['features'] = [feature for feature in data['features'] if feature['properties']['name'] in selected_set]\n",
    "    for feature in data['features']:\n",
    "        feature['properties']['style'] = polygon_highlighted_layout\n",
    "    return geojson\n",
    "\n",
    "def selected_on_click_handler(event=None, id=None, properties=None, **args):\n",
    "    global selected_layer\n",
    "    if properties is None:\n",
    "        return\n",
    "    cid = properties['name']\n",
    "    selected_set.remove(cid)\n",
    "    if selected_layer is not None:\n",
    "        m.remove_layer(selected_layer)\n",
    "    selected_layer = GeoJSON(data = convert_selected_set_to_geojson(selected_set),\n",
    "                            name = 'Selected provinces',\n",
    "                            hover_style = {'fillcolor': 'green'})\n",
    "    selected_layer.on_click(selected_on_click_handler)\n",
    "    m.add_layer(selected_layer)\n",
    "        \n",
    "def geojson_onclick_handler(event=None, id=None, properties=None, **args):\n",
    "    global selected_layer\n",
    "    if properties is None:\n",
    "        return\n",
    "    cid = properties['name']\n",
    "    selected_set.add(cid)\n",
    "    if selected_layer is not None:\n",
    "        m.remove_layer(selected_layer)\n",
    "    selected_layer = GeoJSON(data = convert_selected_set_to_geojson(selected_set),\n",
    "                    name = 'Selected provinces',\n",
    "                    hover_style = {'fillcolor':'green'})\n",
    "    selected_layer.on_click(selected_on_click_handler)\n",
    "    m.add_layer(selected_layer)\n",
    "    \n",
    "\n",
    "geojson_layer.on_click(geojson_onclick_handler)\n",
    "m.add_layer(geojson_layer)\n",
    "    \n",
    "    \n",
    "m"
   ]
  },
  {
   "cell_type": "code",
   "execution_count": null,
   "metadata": {},
   "outputs": [],
   "source": []
  }
 ],
 "metadata": {
  "kernelspec": {
   "display_name": "Python 3",
   "language": "python",
   "name": "python3"
  },
  "language_info": {
   "codemirror_mode": {
    "name": "ipython",
    "version": 3
   },
   "file_extension": ".py",
   "mimetype": "text/x-python",
   "name": "python",
   "nbconvert_exporter": "python",
   "pygments_lexer": "ipython3",
   "version": "3.5.4"
  }
 },
 "nbformat": 4,
 "nbformat_minor": 2
}
