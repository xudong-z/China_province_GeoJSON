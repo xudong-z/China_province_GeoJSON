{
 "cells": [
  {
   "cell_type": "code",
   "execution_count": 9,
   "metadata": {},
   "outputs": [
    {
     "ename": "SyntaxError",
     "evalue": "invalid syntax (<ipython-input-9-fc8038c03c0f>, line 9)",
     "output_type": "error",
     "traceback": [
      "\u001b[0;36m  File \u001b[0;32m\"<ipython-input-9-fc8038c03c0f>\"\u001b[0;36m, line \u001b[0;32m9\u001b[0m\n\u001b[0;31m    \"properties\": 'style': {'color': 'grey',\u001b[0m\n\u001b[0m                         ^\u001b[0m\n\u001b[0;31mSyntaxError\u001b[0m\u001b[0;31m:\u001b[0m invalid syntax\n"
     ]
    }
   ],
   "source": [
    "from ipyleaflet import *\n",
    "\n",
    "\n",
    "data = {\n",
    "  \"type\": \"FeatureCollection\",\n",
    "  \"features\": [\n",
    "    {\n",
    "      \"type\": \"Feature\",\n",
    "      \"properties\": 'style': {'color': 'grey',\n",
    "                               'fillColor': 'grey',\n",
    "                               'fillOpacity': 0.2,\n",
    "                               'weight': 1}},\n",
    "      \"geometry\": {\n",
    "        \"type\": \"Point\",\n",
    "        \"coordinates\": [\n",
    "          117.24609374999999,\n",
    "          36.65079252503471\n",
    "        ]\n",
    "      }\n",
    "    },\n",
    "    {\n",
    "      \"type\": \"Feature\",\n",
    "      \"properties\": {},\n",
    "      \"geometry\": {\n",
    "        \"type\": \"LineString\",\n",
    "        \"coordinates\": [\n",
    "          [\n",
    "            117.24599450826645,\n",
    "            36.65120999361623\n",
    "          ],\n",
    "          [\n",
    "            117.24690914154054,\n",
    "            36.65124657580678\n",
    "          ],\n",
    "          [\n",
    "            117.24694132804869,\n",
    "            36.65100341150826\n",
    "          ],\n",
    "          [\n",
    "            117.24670529365538,\n",
    "            36.650695689215624\n",
    "          ],\n",
    "          [\n",
    "            117.24620908498764,\n",
    "            36.65059024562966\n",
    "          ]\n",
    "        ]\n",
    "      }\n",
    "    },\n",
    "    {\n",
    "      \"type\": \"Feature\",\n",
    "      \"properties\": 'style': {'color': 'grey',\n",
    "                               'fillColor': 'grey',\n",
    "                               'fillOpacity': 0.2,\n",
    "                               'weight': 1}},\n",
    "      \"geometry\": {\n",
    "        \"type\": \"Polygon\",\n",
    "        \"coordinates\": [\n",
    "          [\n",
    "            [\n",
    "              117.15253829956055,\n",
    "              36.67089730689858\n",
    "            ],\n",
    "            [\n",
    "              117.14584350585938,\n",
    "              36.658917692387114\n",
    "            ],\n",
    "            [\n",
    "              117.16318130493163,\n",
    "              36.64721167063527\n",
    "            ],\n",
    "            [\n",
    "              117.17554092407227,\n",
    "              36.65313376288551\n",
    "            ],\n",
    "            [\n",
    "              117.18034744262694,\n",
    "              36.66773046368491\n",
    "            ],\n",
    "            [\n",
    "              117.17348098754883,\n",
    "              36.677643625245274\n",
    "            ],\n",
    "            [\n",
    "              117.15322494506836,\n",
    "              36.692786266889456\n",
    "            ],\n",
    "            [\n",
    "              117.13193893432617,\n",
    "              36.68397636535661\n",
    "            ],\n",
    "            [\n",
    "              117.15047836303711,\n",
    "              36.68012171607383\n",
    "            ],\n",
    "            [\n",
    "              117.15253829956055,\n",
    "              36.67089730689858\n",
    "            ]\n",
    "          ]\n",
    "        ]\n",
    "      }\n",
    "    }\n",
    "  ]\n",
    "}\n"
   ]
  },
  {
   "cell_type": "code",
   "execution_count": 29,
   "metadata": {},
   "outputs": [
    {
     "data": {
      "application/vnd.jupyter.widget-view+json": {
       "model_id": "51ce69ce4f174f1eb29ac02f54ec2840",
       "version_major": 2,
       "version_minor": 0
      },
      "text/plain": [
       "Map(basemap={'attribution': 'Map data (c) <a href=\"https://openstreetmap.org\">OpenStreetMap</a> contributors',…"
      ]
     },
     "metadata": {},
     "output_type": "display_data"
    }
   ],
   "source": [
    "m = Map( center = [36.65079252503471, 117.24609374999999],zoom = 11)\n",
    "\n",
    "g = GeoJSON(data = data)\n",
    "\n",
    "m.add_layer(g)\n",
    "\n",
    "m"
   ]
  },
  {
   "cell_type": "code",
   "execution_count": null,
   "metadata": {},
   "outputs": [],
   "source": []
  }
 ],
 "metadata": {
  "kernelspec": {
   "display_name": "Python 3",
   "language": "python",
   "name": "python3"
  },
  "language_info": {
   "codemirror_mode": {
    "name": "ipython",
    "version": 3
   },
   "file_extension": ".py",
   "mimetype": "text/x-python",
   "name": "python",
   "nbconvert_exporter": "python",
   "pygments_lexer": "ipython3",
   "version": "3.5.4"
  }
 },
 "nbformat": 4,
 "nbformat_minor": 2
}
